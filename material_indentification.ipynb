{
 "cells": [
  {
   "cell_type": "code",
   "execution_count": 1,
   "id": "29222478",
   "metadata": {},
   "outputs": [],
   "source": [
    "import pandas as pd"
   ]
  },
  {
   "cell_type": "code",
   "execution_count": 2,
   "id": "335e6ea3",
   "metadata": {},
   "outputs": [
    {
     "data": {
      "text/html": [
       "<div>\n",
       "<style scoped>\n",
       "    .dataframe tbody tr th:only-of-type {\n",
       "        vertical-align: middle;\n",
       "    }\n",
       "\n",
       "    .dataframe tbody tr th {\n",
       "        vertical-align: top;\n",
       "    }\n",
       "\n",
       "    .dataframe thead th {\n",
       "        text-align: right;\n",
       "    }\n",
       "</style>\n",
       "<table border=\"1\" class=\"dataframe\">\n",
       "  <thead>\n",
       "    <tr style=\"text-align: right;\">\n",
       "      <th></th>\n",
       "      <th>ID</th>\n",
       "      <th>UsageClass</th>\n",
       "      <th>CheckoutType</th>\n",
       "      <th>CheckoutYear</th>\n",
       "      <th>CheckoutMonth</th>\n",
       "      <th>Checkouts</th>\n",
       "      <th>Title</th>\n",
       "      <th>Creator</th>\n",
       "      <th>Subjects</th>\n",
       "      <th>Publisher</th>\n",
       "      <th>PublicationYear</th>\n",
       "      <th>MaterialType</th>\n",
       "    </tr>\n",
       "  </thead>\n",
       "  <tbody>\n",
       "    <tr>\n",
       "      <th>0</th>\n",
       "      <td>1</td>\n",
       "      <td>Physical</td>\n",
       "      <td>Horizon</td>\n",
       "      <td>2005</td>\n",
       "      <td>4</td>\n",
       "      <td>1</td>\n",
       "      <td>Tidal wave</td>\n",
       "      <td>NaN</td>\n",
       "      <td>Tsunamis, Tsunamis Juvenile literature</td>\n",
       "      <td>NaN</td>\n",
       "      <td>NaN</td>\n",
       "      <td>BOOK</td>\n",
       "    </tr>\n",
       "    <tr>\n",
       "      <th>1</th>\n",
       "      <td>2</td>\n",
       "      <td>Physical</td>\n",
       "      <td>Horizon</td>\n",
       "      <td>2005</td>\n",
       "      <td>4</td>\n",
       "      <td>1</td>\n",
       "      <td>London holiday / Richard Peck.</td>\n",
       "      <td>Peck, Richard, 1934-</td>\n",
       "      <td>NaN</td>\n",
       "      <td>Viking,</td>\n",
       "      <td>1998.</td>\n",
       "      <td>BOOK</td>\n",
       "    </tr>\n",
       "    <tr>\n",
       "      <th>2</th>\n",
       "      <td>3</td>\n",
       "      <td>Physical</td>\n",
       "      <td>Horizon</td>\n",
       "      <td>2005</td>\n",
       "      <td>4</td>\n",
       "      <td>3</td>\n",
       "      <td>Cinco de Mayo : celebrating Hispanic pride / C...</td>\n",
       "      <td>Gnojewski, Carol</td>\n",
       "      <td>Cinco de Mayo Mexican holiday History Juvenile...</td>\n",
       "      <td>Enslow Publishers,</td>\n",
       "      <td>c2002.</td>\n",
       "      <td>BOOK</td>\n",
       "    </tr>\n",
       "    <tr>\n",
       "      <th>3</th>\n",
       "      <td>4</td>\n",
       "      <td>Physical</td>\n",
       "      <td>Horizon</td>\n",
       "      <td>2005</td>\n",
       "      <td>4</td>\n",
       "      <td>1</td>\n",
       "      <td>Annapolis</td>\n",
       "      <td>NaN</td>\n",
       "      <td>War stories, Historical fiction, Domestic fict...</td>\n",
       "      <td>NaN</td>\n",
       "      <td>NaN</td>\n",
       "      <td>BOOK</td>\n",
       "    </tr>\n",
       "    <tr>\n",
       "      <th>4</th>\n",
       "      <td>5</td>\n",
       "      <td>Physical</td>\n",
       "      <td>Horizon</td>\n",
       "      <td>2005</td>\n",
       "      <td>4</td>\n",
       "      <td>1</td>\n",
       "      <td>As a man thinketh</td>\n",
       "      <td>NaN</td>\n",
       "      <td>Thought and thinking</td>\n",
       "      <td>NaN</td>\n",
       "      <td>NaN</td>\n",
       "      <td>BOOK</td>\n",
       "    </tr>\n",
       "  </tbody>\n",
       "</table>\n",
       "</div>"
      ],
      "text/plain": [
       "   ID UsageClass CheckoutType  CheckoutYear  CheckoutMonth  Checkouts  \\\n",
       "0   1   Physical      Horizon          2005              4          1   \n",
       "1   2   Physical      Horizon          2005              4          1   \n",
       "2   3   Physical      Horizon          2005              4          3   \n",
       "3   4   Physical      Horizon          2005              4          1   \n",
       "4   5   Physical      Horizon          2005              4          1   \n",
       "\n",
       "                                               Title               Creator  \\\n",
       "0                                         Tidal wave                   NaN   \n",
       "1                     London holiday / Richard Peck.  Peck, Richard, 1934-   \n",
       "2  Cinco de Mayo : celebrating Hispanic pride / C...      Gnojewski, Carol   \n",
       "3                                          Annapolis                   NaN   \n",
       "4                                  As a man thinketh                   NaN   \n",
       "\n",
       "                                            Subjects           Publisher  \\\n",
       "0             Tsunamis, Tsunamis Juvenile literature                 NaN   \n",
       "1                                                NaN             Viking,   \n",
       "2  Cinco de Mayo Mexican holiday History Juvenile...  Enslow Publishers,   \n",
       "3  War stories, Historical fiction, Domestic fict...                 NaN   \n",
       "4                               Thought and thinking                 NaN   \n",
       "\n",
       "  PublicationYear MaterialType  \n",
       "0             NaN         BOOK  \n",
       "1           1998.         BOOK  \n",
       "2          c2002.         BOOK  \n",
       "3             NaN         BOOK  \n",
       "4             NaN         BOOK  "
      ]
     },
     "execution_count": 2,
     "metadata": {},
     "output_type": "execute_result"
    }
   ],
   "source": [
    "df = pd.read_csv(\"train_file.csv\")\n",
    "df.head()"
   ]
  },
  {
   "cell_type": "code",
   "execution_count": 3,
   "id": "13c1d4dd",
   "metadata": {},
   "outputs": [
    {
     "name": "stdout",
     "output_type": "stream",
     "text": [
      "<class 'pandas.core.frame.DataFrame'>\n",
      "RangeIndex: 31653 entries, 0 to 31652\n",
      "Data columns (total 12 columns):\n",
      " #   Column           Non-Null Count  Dtype \n",
      "---  ------           --------------  ----- \n",
      " 0   ID               31653 non-null  int64 \n",
      " 1   UsageClass       31653 non-null  object\n",
      " 2   CheckoutType     31653 non-null  object\n",
      " 3   CheckoutYear     31653 non-null  int64 \n",
      " 4   CheckoutMonth    31653 non-null  int64 \n",
      " 5   Checkouts        31653 non-null  int64 \n",
      " 6   Title            31653 non-null  object\n",
      " 7   Creator          8516 non-null   object\n",
      " 8   Subjects         29890 non-null  object\n",
      " 9   Publisher        9737 non-null   object\n",
      " 10  PublicationYear  9722 non-null   object\n",
      " 11  MaterialType     31653 non-null  object\n",
      "dtypes: int64(4), object(8)\n",
      "memory usage: 2.9+ MB\n"
     ]
    }
   ],
   "source": [
    "df.info()"
   ]
  },
  {
   "cell_type": "code",
   "execution_count": 4,
   "id": "5ee3299f",
   "metadata": {},
   "outputs": [
    {
     "data": {
      "text/plain": [
       "ID                     0\n",
       "UsageClass             0\n",
       "CheckoutType           0\n",
       "CheckoutYear           0\n",
       "CheckoutMonth          0\n",
       "Checkouts              0\n",
       "Title                  0\n",
       "Creator            23137\n",
       "Subjects            1763\n",
       "Publisher          21916\n",
       "PublicationYear    21931\n",
       "MaterialType           0\n",
       "dtype: int64"
      ]
     },
     "execution_count": 4,
     "metadata": {},
     "output_type": "execute_result"
    }
   ],
   "source": [
    "df.isnull().sum()"
   ]
  },
  {
   "cell_type": "code",
   "execution_count": 5,
   "id": "0281cb55",
   "metadata": {},
   "outputs": [
    {
     "data": {
      "text/plain": [
       "array(['Horizon'], dtype=object)"
      ]
     },
     "execution_count": 5,
     "metadata": {},
     "output_type": "execute_result"
    }
   ],
   "source": [
    "df[\"CheckoutType\"].unique()"
   ]
  },
  {
   "cell_type": "code",
   "execution_count": 6,
   "id": "f94cec6f",
   "metadata": {},
   "outputs": [
    {
     "data": {
      "text/plain": [
       "array(['Physical'], dtype=object)"
      ]
     },
     "execution_count": 6,
     "metadata": {},
     "output_type": "execute_result"
    }
   ],
   "source": [
    "df[\"UsageClass\"].unique()"
   ]
  },
  {
   "cell_type": "code",
   "execution_count": 7,
   "id": "637ecd4e",
   "metadata": {},
   "outputs": [
    {
     "data": {
      "text/plain": [
       "array([2005], dtype=int64)"
      ]
     },
     "execution_count": 7,
     "metadata": {},
     "output_type": "execute_result"
    }
   ],
   "source": [
    "df[\"CheckoutYear\"].unique()"
   ]
  },
  {
   "cell_type": "code",
   "execution_count": 8,
   "id": "ef1ae71c",
   "metadata": {},
   "outputs": [
    {
     "data": {
      "text/plain": [
       "array([4], dtype=int64)"
      ]
     },
     "execution_count": 8,
     "metadata": {},
     "output_type": "execute_result"
    }
   ],
   "source": [
    "df[\"CheckoutMonth\"].unique()"
   ]
  },
  {
   "cell_type": "code",
   "execution_count": 9,
   "id": "9912db9d",
   "metadata": {},
   "outputs": [
    {
     "data": {
      "text/plain": [
       "0         1\n",
       "1         1\n",
       "2         3\n",
       "3         1\n",
       "4         1\n",
       "         ..\n",
       "31648     2\n",
       "31649     5\n",
       "31650    12\n",
       "31651     4\n",
       "31652     2\n",
       "Name: Checkouts, Length: 31653, dtype: int64"
      ]
     },
     "execution_count": 9,
     "metadata": {},
     "output_type": "execute_result"
    }
   ],
   "source": [
    "df[\"Checkouts\"]"
   ]
  },
  {
   "cell_type": "code",
   "execution_count": 10,
   "id": "f5ab5455",
   "metadata": {},
   "outputs": [
    {
     "data": {
      "text/html": [
       "<div>\n",
       "<style scoped>\n",
       "    .dataframe tbody tr th:only-of-type {\n",
       "        vertical-align: middle;\n",
       "    }\n",
       "\n",
       "    .dataframe tbody tr th {\n",
       "        vertical-align: top;\n",
       "    }\n",
       "\n",
       "    .dataframe thead th {\n",
       "        text-align: right;\n",
       "    }\n",
       "</style>\n",
       "<table border=\"1\" class=\"dataframe\">\n",
       "  <thead>\n",
       "    <tr style=\"text-align: right;\">\n",
       "      <th></th>\n",
       "      <th>ID</th>\n",
       "      <th>UsageClass</th>\n",
       "      <th>CheckoutType</th>\n",
       "      <th>CheckoutYear</th>\n",
       "      <th>CheckoutMonth</th>\n",
       "      <th>Checkouts</th>\n",
       "      <th>Title</th>\n",
       "      <th>Creator</th>\n",
       "      <th>Subjects</th>\n",
       "      <th>Publisher</th>\n",
       "      <th>PublicationYear</th>\n",
       "      <th>MaterialType</th>\n",
       "    </tr>\n",
       "  </thead>\n",
       "  <tbody>\n",
       "    <tr>\n",
       "      <th>0</th>\n",
       "      <td>1</td>\n",
       "      <td>Physical</td>\n",
       "      <td>Horizon</td>\n",
       "      <td>2005</td>\n",
       "      <td>4</td>\n",
       "      <td>1</td>\n",
       "      <td>Tidal wave</td>\n",
       "      <td>NaN</td>\n",
       "      <td>Tsunamis, Tsunamis Juvenile literature</td>\n",
       "      <td>NaN</td>\n",
       "      <td>NaN</td>\n",
       "      <td>BOOK</td>\n",
       "    </tr>\n",
       "    <tr>\n",
       "      <th>1</th>\n",
       "      <td>2</td>\n",
       "      <td>Physical</td>\n",
       "      <td>Horizon</td>\n",
       "      <td>2005</td>\n",
       "      <td>4</td>\n",
       "      <td>1</td>\n",
       "      <td>London holiday / Richard Peck.</td>\n",
       "      <td>Peck, Richard, 1934-</td>\n",
       "      <td>NaN</td>\n",
       "      <td>Viking,</td>\n",
       "      <td>1998.</td>\n",
       "      <td>BOOK</td>\n",
       "    </tr>\n",
       "    <tr>\n",
       "      <th>2</th>\n",
       "      <td>3</td>\n",
       "      <td>Physical</td>\n",
       "      <td>Horizon</td>\n",
       "      <td>2005</td>\n",
       "      <td>4</td>\n",
       "      <td>3</td>\n",
       "      <td>Cinco de Mayo : celebrating Hispanic pride / C...</td>\n",
       "      <td>Gnojewski, Carol</td>\n",
       "      <td>Cinco de Mayo Mexican holiday History Juvenile...</td>\n",
       "      <td>Enslow Publishers,</td>\n",
       "      <td>c2002.</td>\n",
       "      <td>BOOK</td>\n",
       "    </tr>\n",
       "    <tr>\n",
       "      <th>3</th>\n",
       "      <td>4</td>\n",
       "      <td>Physical</td>\n",
       "      <td>Horizon</td>\n",
       "      <td>2005</td>\n",
       "      <td>4</td>\n",
       "      <td>1</td>\n",
       "      <td>Annapolis</td>\n",
       "      <td>NaN</td>\n",
       "      <td>War stories, Historical fiction, Domestic fict...</td>\n",
       "      <td>NaN</td>\n",
       "      <td>NaN</td>\n",
       "      <td>BOOK</td>\n",
       "    </tr>\n",
       "    <tr>\n",
       "      <th>4</th>\n",
       "      <td>5</td>\n",
       "      <td>Physical</td>\n",
       "      <td>Horizon</td>\n",
       "      <td>2005</td>\n",
       "      <td>4</td>\n",
       "      <td>1</td>\n",
       "      <td>As a man thinketh</td>\n",
       "      <td>NaN</td>\n",
       "      <td>Thought and thinking</td>\n",
       "      <td>NaN</td>\n",
       "      <td>NaN</td>\n",
       "      <td>BOOK</td>\n",
       "    </tr>\n",
       "  </tbody>\n",
       "</table>\n",
       "</div>"
      ],
      "text/plain": [
       "   ID UsageClass CheckoutType  CheckoutYear  CheckoutMonth  Checkouts  \\\n",
       "0   1   Physical      Horizon          2005              4          1   \n",
       "1   2   Physical      Horizon          2005              4          1   \n",
       "2   3   Physical      Horizon          2005              4          3   \n",
       "3   4   Physical      Horizon          2005              4          1   \n",
       "4   5   Physical      Horizon          2005              4          1   \n",
       "\n",
       "                                               Title               Creator  \\\n",
       "0                                         Tidal wave                   NaN   \n",
       "1                     London holiday / Richard Peck.  Peck, Richard, 1934-   \n",
       "2  Cinco de Mayo : celebrating Hispanic pride / C...      Gnojewski, Carol   \n",
       "3                                          Annapolis                   NaN   \n",
       "4                                  As a man thinketh                   NaN   \n",
       "\n",
       "                                            Subjects           Publisher  \\\n",
       "0             Tsunamis, Tsunamis Juvenile literature                 NaN   \n",
       "1                                                NaN             Viking,   \n",
       "2  Cinco de Mayo Mexican holiday History Juvenile...  Enslow Publishers,   \n",
       "3  War stories, Historical fiction, Domestic fict...                 NaN   \n",
       "4                               Thought and thinking                 NaN   \n",
       "\n",
       "  PublicationYear MaterialType  \n",
       "0             NaN         BOOK  \n",
       "1           1998.         BOOK  \n",
       "2          c2002.         BOOK  \n",
       "3             NaN         BOOK  \n",
       "4             NaN         BOOK  "
      ]
     },
     "execution_count": 10,
     "metadata": {},
     "output_type": "execute_result"
    }
   ],
   "source": [
    "df = df[~(df.Checkouts > 30)]\n",
    "df.head()"
   ]
  },
  {
   "cell_type": "code",
   "execution_count": 11,
   "id": "06b0e5e2",
   "metadata": {
    "scrolled": true
   },
   "outputs": [
    {
     "data": {
      "text/html": [
       "<div>\n",
       "<style scoped>\n",
       "    .dataframe tbody tr th:only-of-type {\n",
       "        vertical-align: middle;\n",
       "    }\n",
       "\n",
       "    .dataframe tbody tr th {\n",
       "        vertical-align: top;\n",
       "    }\n",
       "\n",
       "    .dataframe thead th {\n",
       "        text-align: right;\n",
       "    }\n",
       "</style>\n",
       "<table border=\"1\" class=\"dataframe\">\n",
       "  <thead>\n",
       "    <tr style=\"text-align: right;\">\n",
       "      <th></th>\n",
       "      <th>Checkouts</th>\n",
       "      <th>Title</th>\n",
       "      <th>Creator</th>\n",
       "      <th>Subjects</th>\n",
       "      <th>Publisher</th>\n",
       "      <th>MaterialType</th>\n",
       "    </tr>\n",
       "  </thead>\n",
       "  <tbody>\n",
       "    <tr>\n",
       "      <th>0</th>\n",
       "      <td>1</td>\n",
       "      <td>Tidal wave</td>\n",
       "      <td>NaN</td>\n",
       "      <td>Tsunamis, Tsunamis Juvenile literature</td>\n",
       "      <td>NaN</td>\n",
       "      <td>BOOK</td>\n",
       "    </tr>\n",
       "    <tr>\n",
       "      <th>1</th>\n",
       "      <td>1</td>\n",
       "      <td>London holiday / Richard Peck.</td>\n",
       "      <td>Peck, Richard, 1934-</td>\n",
       "      <td>NaN</td>\n",
       "      <td>Viking,</td>\n",
       "      <td>BOOK</td>\n",
       "    </tr>\n",
       "    <tr>\n",
       "      <th>2</th>\n",
       "      <td>3</td>\n",
       "      <td>Cinco de Mayo : celebrating Hispanic pride / C...</td>\n",
       "      <td>Gnojewski, Carol</td>\n",
       "      <td>Cinco de Mayo Mexican holiday History Juvenile...</td>\n",
       "      <td>Enslow Publishers,</td>\n",
       "      <td>BOOK</td>\n",
       "    </tr>\n",
       "    <tr>\n",
       "      <th>3</th>\n",
       "      <td>1</td>\n",
       "      <td>Annapolis</td>\n",
       "      <td>NaN</td>\n",
       "      <td>War stories, Historical fiction, Domestic fict...</td>\n",
       "      <td>NaN</td>\n",
       "      <td>BOOK</td>\n",
       "    </tr>\n",
       "    <tr>\n",
       "      <th>4</th>\n",
       "      <td>1</td>\n",
       "      <td>As a man thinketh</td>\n",
       "      <td>NaN</td>\n",
       "      <td>Thought and thinking</td>\n",
       "      <td>NaN</td>\n",
       "      <td>BOOK</td>\n",
       "    </tr>\n",
       "  </tbody>\n",
       "</table>\n",
       "</div>"
      ],
      "text/plain": [
       "   Checkouts                                              Title  \\\n",
       "0          1                                         Tidal wave   \n",
       "1          1                     London holiday / Richard Peck.   \n",
       "2          3  Cinco de Mayo : celebrating Hispanic pride / C...   \n",
       "3          1                                          Annapolis   \n",
       "4          1                                  As a man thinketh   \n",
       "\n",
       "                Creator                                           Subjects  \\\n",
       "0                   NaN             Tsunamis, Tsunamis Juvenile literature   \n",
       "1  Peck, Richard, 1934-                                                NaN   \n",
       "2      Gnojewski, Carol  Cinco de Mayo Mexican holiday History Juvenile...   \n",
       "3                   NaN  War stories, Historical fiction, Domestic fict...   \n",
       "4                   NaN                               Thought and thinking   \n",
       "\n",
       "            Publisher MaterialType  \n",
       "0                 NaN         BOOK  \n",
       "1             Viking,         BOOK  \n",
       "2  Enslow Publishers,         BOOK  \n",
       "3                 NaN         BOOK  \n",
       "4                 NaN         BOOK  "
      ]
     },
     "execution_count": 11,
     "metadata": {},
     "output_type": "execute_result"
    }
   ],
   "source": [
    "df.drop([\"ID\", \"UsageClass\", \"CheckoutType\", \"CheckoutYear\", \"PublicationYear\", \"CheckoutMonth\"], axis =1, inplace= True)\n",
    "df.head()"
   ]
  },
  {
   "cell_type": "code",
   "execution_count": 12,
   "id": "cb71a5e1",
   "metadata": {},
   "outputs": [],
   "source": [
    "df.fillna(\" \",inplace=True)"
   ]
  },
  {
   "cell_type": "code",
   "execution_count": 13,
   "id": "0e76aacb",
   "metadata": {},
   "outputs": [],
   "source": [
    "df[\"Checkouts\"] = df[\"Checkouts\"].apply(lambda x: str(x))"
   ]
  },
  {
   "cell_type": "code",
   "execution_count": 14,
   "id": "7a8c1036",
   "metadata": {},
   "outputs": [
    {
     "name": "stdout",
     "output_type": "stream",
     "text": [
      "<class 'pandas.core.frame.DataFrame'>\n",
      "Int64Index: 31622 entries, 0 to 31652\n",
      "Data columns (total 6 columns):\n",
      " #   Column        Non-Null Count  Dtype \n",
      "---  ------        --------------  ----- \n",
      " 0   Checkouts     31622 non-null  object\n",
      " 1   Title         31622 non-null  object\n",
      " 2   Creator       31622 non-null  object\n",
      " 3   Subjects      31622 non-null  object\n",
      " 4   Publisher     31622 non-null  object\n",
      " 5   MaterialType  31622 non-null  object\n",
      "dtypes: object(6)\n",
      "memory usage: 1.7+ MB\n"
     ]
    }
   ],
   "source": [
    "df.info()"
   ]
  },
  {
   "cell_type": "code",
   "execution_count": 15,
   "id": "428a8577",
   "metadata": {
    "scrolled": true
   },
   "outputs": [],
   "source": [
    "df1 = df[\"Checkouts\"]+\" \"+df[\"Title\"]+\" \"+df[\"Creator\"]+\" \"+df[\"Subjects\"]+\" \"+df[\"Publisher\"]"
   ]
  },
  {
   "cell_type": "code",
   "execution_count": 16,
   "id": "c84c129a",
   "metadata": {},
   "outputs": [
    {
     "data": {
      "text/plain": [
       "0    1 Tidal wave   Tsunamis, Tsunamis Juvenile lit...\n",
       "1    1 London holiday / Richard Peck. Peck, Richard...\n",
       "2    3 Cinco de Mayo : celebrating Hispanic pride /...\n",
       "3    1 Annapolis   War stories, Historical fiction,...\n",
       "4         1 As a man thinketh   Thought and thinking  \n",
       "dtype: object"
      ]
     },
     "execution_count": 16,
     "metadata": {},
     "output_type": "execute_result"
    }
   ],
   "source": [
    "df1.head()"
   ]
  },
  {
   "cell_type": "code",
   "execution_count": 17,
   "id": "45220825",
   "metadata": {},
   "outputs": [],
   "source": [
    "df1 = df1.apply(lambda x: str(x))\n",
    "df1 = df1.apply(lambda x: x.lower())"
   ]
  },
  {
   "cell_type": "code",
   "execution_count": 18,
   "id": "81a7deaf",
   "metadata": {},
   "outputs": [
    {
     "data": {
      "text/plain": [
       "0    1 tidal wave   tsunamis, tsunamis juvenile lit...\n",
       "1    1 london holiday / richard peck. peck, richard...\n",
       "2    3 cinco de mayo : celebrating hispanic pride /...\n",
       "3    1 annapolis   war stories, historical fiction,...\n",
       "4         1 as a man thinketh   thought and thinking  \n",
       "dtype: object"
      ]
     },
     "execution_count": 18,
     "metadata": {},
     "output_type": "execute_result"
    }
   ],
   "source": [
    "X = df1\n",
    "X.head()"
   ]
  },
  {
   "cell_type": "code",
   "execution_count": 19,
   "id": "cf8dc022",
   "metadata": {},
   "outputs": [
    {
     "data": {
      "text/plain": [
       "array(['BOOK', 'SOUNDDISC', 'VIDEOCASS', 'VIDEODISC', 'SOUNDCASS',\n",
       "       'MUSIC', 'MIXED', 'CR'], dtype=object)"
      ]
     },
     "execution_count": 19,
     "metadata": {},
     "output_type": "execute_result"
    }
   ],
   "source": [
    "df.MaterialType.unique()"
   ]
  },
  {
   "cell_type": "code",
   "execution_count": 20,
   "id": "ec4789df",
   "metadata": {
    "scrolled": true
   },
   "outputs": [],
   "source": [
    "df[\"MaterialType\"] = df[\"MaterialType\"].replace({'BOOK':0, 'SOUNDDISC':1, 'VIDEOCASS':2, 'VIDEODISC':3, 'SOUNDCASS':4, 'MUSIC':5, 'MIXED':6, 'CR':7})"
   ]
  },
  {
   "cell_type": "code",
   "execution_count": 21,
   "id": "b91971ab",
   "metadata": {
    "scrolled": true
   },
   "outputs": [
    {
     "data": {
      "text/plain": [
       "0    0\n",
       "1    0\n",
       "2    0\n",
       "3    0\n",
       "4    0\n",
       "Name: MaterialType, dtype: int64"
      ]
     },
     "execution_count": 21,
     "metadata": {},
     "output_type": "execute_result"
    }
   ],
   "source": [
    "y = df[\"MaterialType\"]\n",
    "y.head()"
   ]
  },
  {
   "cell_type": "code",
   "execution_count": 22,
   "id": "8eea3460",
   "metadata": {},
   "outputs": [],
   "source": [
    "from sklearn.model_selection import train_test_split"
   ]
  },
  {
   "cell_type": "code",
   "execution_count": 23,
   "id": "006fad15",
   "metadata": {},
   "outputs": [],
   "source": [
    "X_train, X_test, y_train, y_test = train_test_split(X, y, test_size=0.20, random_state=42)"
   ]
  },
  {
   "cell_type": "code",
   "execution_count": 24,
   "id": "60a176f0",
   "metadata": {},
   "outputs": [
    {
     "data": {
      "text/plain": [
       "(25297,)"
      ]
     },
     "execution_count": 24,
     "metadata": {},
     "output_type": "execute_result"
    }
   ],
   "source": [
    "X_train.shape"
   ]
  },
  {
   "cell_type": "code",
   "execution_count": 25,
   "id": "1b5c689a",
   "metadata": {},
   "outputs": [
    {
     "data": {
      "text/plain": [
       "(6325,)"
      ]
     },
     "execution_count": 25,
     "metadata": {},
     "output_type": "execute_result"
    }
   ],
   "source": [
    "X_test.shape"
   ]
  },
  {
   "cell_type": "code",
   "execution_count": 26,
   "id": "a74b681e",
   "metadata": {},
   "outputs": [],
   "source": [
    "from sklearn.feature_extraction.text import CountVectorizer"
   ]
  },
  {
   "cell_type": "code",
   "execution_count": 27,
   "id": "345adb7a",
   "metadata": {
    "scrolled": false
   },
   "outputs": [
    {
     "data": {
      "text/plain": [
       "array([[0, 0, 0, ..., 0, 0, 0],\n",
       "       [0, 0, 0, ..., 0, 0, 0],\n",
       "       [0, 0, 0, ..., 0, 0, 0],\n",
       "       ...,\n",
       "       [0, 0, 0, ..., 0, 0, 0],\n",
       "       [0, 0, 0, ..., 0, 0, 0],\n",
       "       [0, 0, 0, ..., 0, 0, 0]], dtype=int64)"
      ]
     },
     "execution_count": 27,
     "metadata": {},
     "output_type": "execute_result"
    }
   ],
   "source": [
    "vector = CountVectorizer()\n",
    "X_train_cv = vector.fit_transform(X_train)\n",
    "X_train_cv.toarray()"
   ]
  },
  {
   "cell_type": "code",
   "execution_count": 28,
   "id": "4d0d70be",
   "metadata": {},
   "outputs": [
    {
     "data": {
      "text/plain": [
       "array([[0, 0, 0, ..., 0, 0, 0],\n",
       "       [0, 0, 0, ..., 0, 0, 0],\n",
       "       [0, 0, 0, ..., 0, 0, 0],\n",
       "       ...,\n",
       "       [0, 0, 0, ..., 0, 0, 0],\n",
       "       [0, 0, 0, ..., 0, 0, 0],\n",
       "       [0, 0, 0, ..., 0, 0, 0]], dtype=int64)"
      ]
     },
     "execution_count": 28,
     "metadata": {},
     "output_type": "execute_result"
    }
   ],
   "source": [
    "X_test_cv = vector.transform(X_test)\n",
    "X_test_cv.toarray()"
   ]
  },
  {
   "cell_type": "code",
   "execution_count": 29,
   "id": "500b0cc1",
   "metadata": {},
   "outputs": [],
   "source": [
    "from sklearn.naive_bayes import MultinomialNB"
   ]
  },
  {
   "cell_type": "code",
   "execution_count": 30,
   "id": "c93905e1",
   "metadata": {},
   "outputs": [
    {
     "data": {
      "text/plain": [
       "0.8643478260869565"
      ]
     },
     "execution_count": 30,
     "metadata": {},
     "output_type": "execute_result"
    }
   ],
   "source": [
    "multi = MultinomialNB()\n",
    "multi.fit(X_train_cv, y_train)\n",
    "multi.score(X_test_cv, y_test)"
   ]
  }
 ],
 "metadata": {
  "kernelspec": {
   "display_name": "Python 3 (ipykernel)",
   "language": "python",
   "name": "python3"
  },
  "language_info": {
   "codemirror_mode": {
    "name": "ipython",
    "version": 3
   },
   "file_extension": ".py",
   "mimetype": "text/x-python",
   "name": "python",
   "nbconvert_exporter": "python",
   "pygments_lexer": "ipython3",
   "version": "3.9.13"
  }
 },
 "nbformat": 4,
 "nbformat_minor": 5
}
